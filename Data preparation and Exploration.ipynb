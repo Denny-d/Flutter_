{
 "cells": [
  {
   "cell_type": "code",
   "execution_count": null,
   "metadata": {},
   "outputs": [],
   "source": [
    "import pandas as pd\n",
    "import numpy as np\n",
    "import matplotlib.pyplot as plt\n",
    "import seaborn as sns\n",
    "import numpy.random as nr\n",
    "import math\n",
    "\n",
    "%matplotlib inline\n",
    "\n"
   ]
  },
  {
   "cell_type": "code",
   "execution_count": null,
   "metadata": {},
   "outputs": [],
   "source": [
    "AW_test = pd.read_csv('AW_test.csv')\n",
    "AW_test.head()"
   ]
  },
  {
   "cell_type": "code",
   "execution_count": null,
   "metadata": {},
   "outputs": [],
   "source": [
    "AW_test.columns = [str.replace('-','_')for str in AW_test.columns]"
   ]
  },
  {
   "cell_type": "code",
   "execution_count": null,
   "metadata": {},
   "outputs": [],
   "source": [
    "(AW_test.astype(np.object) =='NaN').any()"
   ]
  },
  {
   "cell_type": "code",
   "execution_count": null,
   "metadata": {},
   "outputs": [],
   "source": [
    "AW_test.dtypes"
   ]
  },
  {
   "cell_type": "code",
   "execution_count": null,
   "metadata": {},
   "outputs": [],
   "source": [
    "for col in AW_test.columns:\n",
    "    if AW_test[col].dtype == object:\n",
    "        count =0\n",
    "        count = [count + 1 for x in AW_test[col] if x =='?']\n",
    "        print(col + ' '+str(count))"
   ]
  },
  {
   "cell_type": "code",
   "execution_count": null,
   "metadata": {},
   "outputs": [],
   "source": [
    "AW_test.head()"
   ]
  },
  {
   "cell_type": "code",
   "execution_count": null,
   "metadata": {},
   "outputs": [],
   "source": [
    "AW_test.drop(['CustomerID','Title','MiddleName','Suffix','AddressLine1','AddressLine2','BirthDate'], axis=1, inplace=True)"
   ]
  },
  {
   "cell_type": "code",
   "execution_count": null,
   "metadata": {},
   "outputs": [],
   "source": [
    "AW_test.head()"
   ]
  },
  {
   "cell_type": "code",
   "execution_count": null,
   "metadata": {},
   "outputs": [],
   "source": [
    "AW_test.drop(['PostalCode','PhoneNumber','FirstName','LastName',] ,axis=1, inplace=True)"
   ]
  },
  {
   "cell_type": "code",
   "execution_count": null,
   "metadata": {},
   "outputs": [],
   "source": [
    "AW_test.head()"
   ]
  },
  {
   "cell_type": "code",
   "execution_count": null,
   "metadata": {},
   "outputs": [],
   "source": [
    "def plot_violin(AW_test, cols, col_y ='TotalChildren'):\n",
    "    for col in cols:\n",
    "        sns.set_style('whitegrid')\n",
    "        sns.violinplot(col,col_y,data=AW_test)\n",
    "        plt.xlabel(col)\n",
    "        plt.ylabel(col_y)\n",
    "        plt.show()\n",
    "cat_cols = ['Occupation','CountryRegionName']\n",
    "        \n",
    "plot_violin(AW_test,cat_cols)        "
   ]
  },
  {
   "cell_type": "code",
   "execution_count": null,
   "metadata": {},
   "outputs": [],
   "source": [
    "AW_test['NumberChildrenAtHome'].value_counts()"
   ]
  },
  {
   "cell_type": "code",
   "execution_count": null,
   "metadata": {},
   "outputs": [],
   "source": [
    "AW_test['TotalChildren'].value_counts()"
   ]
  },
  {
   "cell_type": "code",
   "execution_count": null,
   "metadata": {},
   "outputs": [],
   "source": [
    "AW_test['Education'].value_counts()"
   ]
  },
  {
   "cell_type": "code",
   "execution_count": null,
   "metadata": {},
   "outputs": [],
   "source": [
    "AW_test['Occupation'].value_counts()"
   ]
  },
  {
   "cell_type": "code",
   "execution_count": null,
   "metadata": {},
   "outputs": [],
   "source": [
    "def box_plot(AW_test,col,col_y = 'YearlyIncome'):\n",
    "    sns.set_style('whitegrid')\n",
    "    sns.boxplot(col,col_y,data=AW_test)\n",
    "    plt.xlabel(col)\n",
    "    plt.ylabel(col_y)\n",
    "    plt.show()\n",
    "    \n",
    "box_plot(AW_test,'NumberChildrenAtHome')"
   ]
  },
  {
   "cell_type": "code",
   "execution_count": null,
   "metadata": {},
   "outputs": [],
   "source": [
    "def box_plot(AW_test,col,col_y = 'YearlyIncome'):\n",
    "    sns.set_style('whitegrid')\n",
    "    sns.boxplot(col,col_y,data=AW_test)\n",
    "    plt.xlabel(col)\n",
    "    plt.ylabel(col_y)\n",
    "    plt.show()\n",
    "    \n",
    "box_plot(AW_test,'TotalChildren')"
   ]
  },
  {
   "cell_type": "code",
   "execution_count": null,
   "metadata": {},
   "outputs": [],
   "source": [
    "def hist_plot(vals,lab):\n",
    "    sns.distplot(vals)\n",
    "    plt.title('histogram of' + lab)\n",
    "    plt.xlabel('value')\n",
    "    plt.ylabel('Density')\n",
    "    \n",
    "hist_plot(AW_test['YearlyIncome'], 'YealyIncome')"
   ]
  },
  {
   "cell_type": "code",
   "execution_count": null,
   "metadata": {},
   "outputs": [],
   "source": [
    "AW_test['log_YearlyIncome'] = np.log(AW_test['YearlyIncome'])\n",
    "hist_plot(AW_test['log_YearlyIncome'],'log YearlyIncome')"
   ]
  },
  {
   "cell_type": "code",
   "execution_count": null,
   "metadata": {},
   "outputs": [],
   "source": [
    "AW_test.to_csv('AW_Data_prered.csv',index=False, header=True)"
   ]
  },
  {
   "cell_type": "code",
   "execution_count": null,
   "metadata": {},
   "outputs": [],
   "source": []
  }
 ],
 "metadata": {
  "kernelspec": {
   "display_name": "Python 3",
   "language": "python",
   "name": "python3"
  },
  "language_info": {
   "codemirror_mode": {
    "name": "ipython",
    "version": 3
   },
   "file_extension": ".py",
   "mimetype": "text/x-python",
   "name": "python",
   "nbconvert_exporter": "python",
   "pygments_lexer": "ipython3",
   "version": "3.7.3"
  }
 },
 "nbformat": 4,
 "nbformat_minor": 2
}
